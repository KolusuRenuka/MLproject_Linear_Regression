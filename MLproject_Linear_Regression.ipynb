{
 "metadata": {
  "language_info": {
   "codemirror_mode": {
    "name": "ipython",
    "version": 3
   },
   "file_extension": ".py",
   "mimetype": "text/x-python",
   "name": "python",
   "nbconvert_exporter": "python",
   "pygments_lexer": "ipython3",
   "version": "3.9.0"
  },
  "orig_nbformat": 4,
  "kernelspec": {
   "name": "python3",
   "display_name": "Python 3.9.0 64-bit"
  },
  "interpreter": {
   "hash": "ae20364c4a40fbf76faa55d22b75aea653d988f364eee682a5521dc19fa44561"
  }
 },
 "nbformat": 4,
 "nbformat_minor": 2,
 "cells": [
  {
   "source": [
    "## Linear Regression with Scikit Learn \n",
    "\n",
    "\n",
    "![](https://i.imgur.com/1EzyZvj.png)"
   ],
   "cell_type": "markdown",
   "metadata": {}
  },
  {
   "cell_type": "code",
   "execution_count": 339,
   "metadata": {},
   "outputs": [],
   "source": [
    "# importing required libraries\n",
    "import pandas as pd\n",
    "import numpy as np\n",
    "import plotly.express as px\n",
    "import matplotlib\n",
    "import matplotlib.pyplot as plotly\n",
    "import seaborn as sns\n",
    "%matplotlib inline"
   ]
  },
  {
   "cell_type": "code",
   "execution_count": 340,
   "metadata": {},
   "outputs": [
    {
     "output_type": "execute_result",
     "data": {
      "text/plain": [
       "      age     sex     bmi  children smoker     region      charges\n",
       "0      19  female  27.900         0    yes  southwest  16884.92400\n",
       "1      18    male  33.770         1     no  southeast   1725.55230\n",
       "2      28    male  33.000         3     no  southeast   4449.46200\n",
       "3      33    male  22.705         0     no  northwest  21984.47061\n",
       "4      32    male  28.880         0     no  northwest   3866.85520\n",
       "...   ...     ...     ...       ...    ...        ...          ...\n",
       "1333   50    male  30.970         3     no  northwest  10600.54830\n",
       "1334   18  female  31.920         0     no  northeast   2205.98080\n",
       "1335   18  female  36.850         0     no  southeast   1629.83350\n",
       "1336   21  female  25.800         0     no  southwest   2007.94500\n",
       "1337   61  female  29.070         0    yes  northwest  29141.36030\n",
       "\n",
       "[1338 rows x 7 columns]"
      ],
      "text/html": "<div>\n<style scoped>\n    .dataframe tbody tr th:only-of-type {\n        vertical-align: middle;\n    }\n\n    .dataframe tbody tr th {\n        vertical-align: top;\n    }\n\n    .dataframe thead th {\n        text-align: right;\n    }\n</style>\n<table border=\"1\" class=\"dataframe\">\n  <thead>\n    <tr style=\"text-align: right;\">\n      <th></th>\n      <th>age</th>\n      <th>sex</th>\n      <th>bmi</th>\n      <th>children</th>\n      <th>smoker</th>\n      <th>region</th>\n      <th>charges</th>\n    </tr>\n  </thead>\n  <tbody>\n    <tr>\n      <th>0</th>\n      <td>19</td>\n      <td>female</td>\n      <td>27.900</td>\n      <td>0</td>\n      <td>yes</td>\n      <td>southwest</td>\n      <td>16884.92400</td>\n    </tr>\n    <tr>\n      <th>1</th>\n      <td>18</td>\n      <td>male</td>\n      <td>33.770</td>\n      <td>1</td>\n      <td>no</td>\n      <td>southeast</td>\n      <td>1725.55230</td>\n    </tr>\n    <tr>\n      <th>2</th>\n      <td>28</td>\n      <td>male</td>\n      <td>33.000</td>\n      <td>3</td>\n      <td>no</td>\n      <td>southeast</td>\n      <td>4449.46200</td>\n    </tr>\n    <tr>\n      <th>3</th>\n      <td>33</td>\n      <td>male</td>\n      <td>22.705</td>\n      <td>0</td>\n      <td>no</td>\n      <td>northwest</td>\n      <td>21984.47061</td>\n    </tr>\n    <tr>\n      <th>4</th>\n      <td>32</td>\n      <td>male</td>\n      <td>28.880</td>\n      <td>0</td>\n      <td>no</td>\n      <td>northwest</td>\n      <td>3866.85520</td>\n    </tr>\n    <tr>\n      <th>...</th>\n      <td>...</td>\n      <td>...</td>\n      <td>...</td>\n      <td>...</td>\n      <td>...</td>\n      <td>...</td>\n      <td>...</td>\n    </tr>\n    <tr>\n      <th>1333</th>\n      <td>50</td>\n      <td>male</td>\n      <td>30.970</td>\n      <td>3</td>\n      <td>no</td>\n      <td>northwest</td>\n      <td>10600.54830</td>\n    </tr>\n    <tr>\n      <th>1334</th>\n      <td>18</td>\n      <td>female</td>\n      <td>31.920</td>\n      <td>0</td>\n      <td>no</td>\n      <td>northeast</td>\n      <td>2205.98080</td>\n    </tr>\n    <tr>\n      <th>1335</th>\n      <td>18</td>\n      <td>female</td>\n      <td>36.850</td>\n      <td>0</td>\n      <td>no</td>\n      <td>southeast</td>\n      <td>1629.83350</td>\n    </tr>\n    <tr>\n      <th>1336</th>\n      <td>21</td>\n      <td>female</td>\n      <td>25.800</td>\n      <td>0</td>\n      <td>no</td>\n      <td>southwest</td>\n      <td>2007.94500</td>\n    </tr>\n    <tr>\n      <th>1337</th>\n      <td>61</td>\n      <td>female</td>\n      <td>29.070</td>\n      <td>0</td>\n      <td>yes</td>\n      <td>northwest</td>\n      <td>29141.36030</td>\n    </tr>\n  </tbody>\n</table>\n<p>1338 rows × 7 columns</p>\n</div>"
     },
     "metadata": {},
     "execution_count": 340
    }
   ],
   "source": [
    "# Loading the data from the file insurance.csv into Pandas Dataframe\n",
    "medical_df = pd.read_csv(\"insurance.csv\")\n",
    "medical_df"
   ]
  },
  {
   "cell_type": "code",
   "execution_count": 341,
   "metadata": {},
   "outputs": [
    {
     "output_type": "stream",
     "name": "stdout",
     "text": [
      "<class 'pandas.core.frame.DataFrame'>\nRangeIndex: 1338 entries, 0 to 1337\nData columns (total 7 columns):\n #   Column    Non-Null Count  Dtype  \n---  ------    --------------  -----  \n 0   age       1338 non-null   int64  \n 1   sex       1338 non-null   object \n 2   bmi       1338 non-null   float64\n 3   children  1338 non-null   int64  \n 4   smoker    1338 non-null   object \n 5   region    1338 non-null   object \n 6   charges   1338 non-null   float64\ndtypes: float64(2), int64(2), object(3)\nmemory usage: 73.3+ KB\n"
     ]
    }
   ],
   "source": [
    "#Analyzing the data\n",
    "medical_df.info()\n",
    "# does not contain any null values"
   ]
  },
  {
   "cell_type": "code",
   "execution_count": 296,
   "metadata": {},
   "outputs": [
    {
     "output_type": "execute_result",
     "data": {
      "text/plain": [
       "               age          bmi     children       charges\n",
       "count  1338.000000  1338.000000  1338.000000   1338.000000\n",
       "mean     39.207025    30.663397     1.094918  13270.422265\n",
       "std      14.049960     6.098187     1.205493  12110.011237\n",
       "min      18.000000    15.960000     0.000000   1121.873900\n",
       "25%      27.000000    26.296250     0.000000   4740.287150\n",
       "50%      39.000000    30.400000     1.000000   9382.033000\n",
       "75%      51.000000    34.693750     2.000000  16639.912515\n",
       "max      64.000000    53.130000     5.000000  63770.428010"
      ],
      "text/html": "<div>\n<style scoped>\n    .dataframe tbody tr th:only-of-type {\n        vertical-align: middle;\n    }\n\n    .dataframe tbody tr th {\n        vertical-align: top;\n    }\n\n    .dataframe thead th {\n        text-align: right;\n    }\n</style>\n<table border=\"1\" class=\"dataframe\">\n  <thead>\n    <tr style=\"text-align: right;\">\n      <th></th>\n      <th>age</th>\n      <th>bmi</th>\n      <th>children</th>\n      <th>charges</th>\n    </tr>\n  </thead>\n  <tbody>\n    <tr>\n      <th>count</th>\n      <td>1338.000000</td>\n      <td>1338.000000</td>\n      <td>1338.000000</td>\n      <td>1338.000000</td>\n    </tr>\n    <tr>\n      <th>mean</th>\n      <td>39.207025</td>\n      <td>30.663397</td>\n      <td>1.094918</td>\n      <td>13270.422265</td>\n    </tr>\n    <tr>\n      <th>std</th>\n      <td>14.049960</td>\n      <td>6.098187</td>\n      <td>1.205493</td>\n      <td>12110.011237</td>\n    </tr>\n    <tr>\n      <th>min</th>\n      <td>18.000000</td>\n      <td>15.960000</td>\n      <td>0.000000</td>\n      <td>1121.873900</td>\n    </tr>\n    <tr>\n      <th>25%</th>\n      <td>27.000000</td>\n      <td>26.296250</td>\n      <td>0.000000</td>\n      <td>4740.287150</td>\n    </tr>\n    <tr>\n      <th>50%</th>\n      <td>39.000000</td>\n      <td>30.400000</td>\n      <td>1.000000</td>\n      <td>9382.033000</td>\n    </tr>\n    <tr>\n      <th>75%</th>\n      <td>51.000000</td>\n      <td>34.693750</td>\n      <td>2.000000</td>\n      <td>16639.912515</td>\n    </tr>\n    <tr>\n      <th>max</th>\n      <td>64.000000</td>\n      <td>53.130000</td>\n      <td>5.000000</td>\n      <td>63770.428010</td>\n    </tr>\n  </tbody>\n</table>\n</div>"
     },
     "metadata": {},
     "execution_count": 296
    }
   ],
   "source": [
    "medical_df.describe()"
   ]
  },
  {
   "source": [
    "# Correlation between the columns"
   ],
   "cell_type": "markdown",
   "metadata": {}
  },
  {
   "cell_type": "code",
   "execution_count": 297,
   "metadata": {},
   "outputs": [
    {
     "output_type": "execute_result",
     "data": {
      "text/plain": [
       "               age       bmi  children   charges\n",
       "age       1.000000  0.109272  0.042469  0.299008\n",
       "bmi       0.109272  1.000000  0.012759  0.198341\n",
       "children  0.042469  0.012759  1.000000  0.067998\n",
       "charges   0.299008  0.198341  0.067998  1.000000"
      ],
      "text/html": "<div>\n<style scoped>\n    .dataframe tbody tr th:only-of-type {\n        vertical-align: middle;\n    }\n\n    .dataframe tbody tr th {\n        vertical-align: top;\n    }\n\n    .dataframe thead th {\n        text-align: right;\n    }\n</style>\n<table border=\"1\" class=\"dataframe\">\n  <thead>\n    <tr style=\"text-align: right;\">\n      <th></th>\n      <th>age</th>\n      <th>bmi</th>\n      <th>children</th>\n      <th>charges</th>\n    </tr>\n  </thead>\n  <tbody>\n    <tr>\n      <th>age</th>\n      <td>1.000000</td>\n      <td>0.109272</td>\n      <td>0.042469</td>\n      <td>0.299008</td>\n    </tr>\n    <tr>\n      <th>bmi</th>\n      <td>0.109272</td>\n      <td>1.000000</td>\n      <td>0.012759</td>\n      <td>0.198341</td>\n    </tr>\n    <tr>\n      <th>children</th>\n      <td>0.042469</td>\n      <td>0.012759</td>\n      <td>1.000000</td>\n      <td>0.067998</td>\n    </tr>\n    <tr>\n      <th>charges</th>\n      <td>0.299008</td>\n      <td>0.198341</td>\n      <td>0.067998</td>\n      <td>1.000000</td>\n    </tr>\n  </tbody>\n</table>\n</div>"
     },
     "metadata": {},
     "execution_count": 297
    }
   ],
   "source": [
    "# correlation between the columns\n",
    "medical_df.corr()\n",
    "# shows the correlation only between the numeric columns but not the categorical cloumns\n",
    "# change the categorical data into 1s and 0s using one-hot encoding\n",
    "\n",
    "\n"
   ]
  },
  {
   "source": [
    "Input  data and Target data coulmns"
   ],
   "cell_type": "markdown",
   "metadata": {}
  },
  {
   "cell_type": "code",
   "execution_count": 298,
   "metadata": {},
   "outputs": [
    {
     "output_type": "execute_result",
     "data": {
      "text/plain": [
       "      age     sex     bmi  children smoker     region\n",
       "0      19  female  27.900         0    yes  southwest\n",
       "1      18    male  33.770         1     no  southeast\n",
       "2      28    male  33.000         3     no  southeast\n",
       "3      33    male  22.705         0     no  northwest\n",
       "4      32    male  28.880         0     no  northwest\n",
       "...   ...     ...     ...       ...    ...        ...\n",
       "1333   50    male  30.970         3     no  northwest\n",
       "1334   18  female  31.920         0     no  northeast\n",
       "1335   18  female  36.850         0     no  southeast\n",
       "1336   21  female  25.800         0     no  southwest\n",
       "1337   61  female  29.070         0    yes  northwest\n",
       "\n",
       "[1338 rows x 6 columns]"
      ],
      "text/html": "<div>\n<style scoped>\n    .dataframe tbody tr th:only-of-type {\n        vertical-align: middle;\n    }\n\n    .dataframe tbody tr th {\n        vertical-align: top;\n    }\n\n    .dataframe thead th {\n        text-align: right;\n    }\n</style>\n<table border=\"1\" class=\"dataframe\">\n  <thead>\n    <tr style=\"text-align: right;\">\n      <th></th>\n      <th>age</th>\n      <th>sex</th>\n      <th>bmi</th>\n      <th>children</th>\n      <th>smoker</th>\n      <th>region</th>\n    </tr>\n  </thead>\n  <tbody>\n    <tr>\n      <th>0</th>\n      <td>19</td>\n      <td>female</td>\n      <td>27.900</td>\n      <td>0</td>\n      <td>yes</td>\n      <td>southwest</td>\n    </tr>\n    <tr>\n      <th>1</th>\n      <td>18</td>\n      <td>male</td>\n      <td>33.770</td>\n      <td>1</td>\n      <td>no</td>\n      <td>southeast</td>\n    </tr>\n    <tr>\n      <th>2</th>\n      <td>28</td>\n      <td>male</td>\n      <td>33.000</td>\n      <td>3</td>\n      <td>no</td>\n      <td>southeast</td>\n    </tr>\n    <tr>\n      <th>3</th>\n      <td>33</td>\n      <td>male</td>\n      <td>22.705</td>\n      <td>0</td>\n      <td>no</td>\n      <td>northwest</td>\n    </tr>\n    <tr>\n      <th>4</th>\n      <td>32</td>\n      <td>male</td>\n      <td>28.880</td>\n      <td>0</td>\n      <td>no</td>\n      <td>northwest</td>\n    </tr>\n    <tr>\n      <th>...</th>\n      <td>...</td>\n      <td>...</td>\n      <td>...</td>\n      <td>...</td>\n      <td>...</td>\n      <td>...</td>\n    </tr>\n    <tr>\n      <th>1333</th>\n      <td>50</td>\n      <td>male</td>\n      <td>30.970</td>\n      <td>3</td>\n      <td>no</td>\n      <td>northwest</td>\n    </tr>\n    <tr>\n      <th>1334</th>\n      <td>18</td>\n      <td>female</td>\n      <td>31.920</td>\n      <td>0</td>\n      <td>no</td>\n      <td>northeast</td>\n    </tr>\n    <tr>\n      <th>1335</th>\n      <td>18</td>\n      <td>female</td>\n      <td>36.850</td>\n      <td>0</td>\n      <td>no</td>\n      <td>southeast</td>\n    </tr>\n    <tr>\n      <th>1336</th>\n      <td>21</td>\n      <td>female</td>\n      <td>25.800</td>\n      <td>0</td>\n      <td>no</td>\n      <td>southwest</td>\n    </tr>\n    <tr>\n      <th>1337</th>\n      <td>61</td>\n      <td>female</td>\n      <td>29.070</td>\n      <td>0</td>\n      <td>yes</td>\n      <td>northwest</td>\n    </tr>\n  </tbody>\n</table>\n<p>1338 rows × 6 columns</p>\n</div>"
     },
     "metadata": {},
     "execution_count": 298
    }
   ],
   "source": [
    "# split the  input data into numeric columns and categorical columns\n",
    "input_cols = medical_df.columns[0:6]\n",
    "inputs_df=  medical_df[input_cols].copy()\n",
    "inputs_df"
   ]
  },
  {
   "cell_type": "code",
   "execution_count": 299,
   "metadata": {},
   "outputs": [
    {
     "output_type": "execute_result",
     "data": {
      "text/plain": [
       "          charges\n",
       "0     16884.92400\n",
       "1      1725.55230\n",
       "2      4449.46200\n",
       "3     21984.47061\n",
       "4      3866.85520\n",
       "...           ...\n",
       "1333  10600.54830\n",
       "1334   2205.98080\n",
       "1335   1629.83350\n",
       "1336   2007.94500\n",
       "1337  29141.36030\n",
       "\n",
       "[1338 rows x 1 columns]"
      ],
      "text/html": "<div>\n<style scoped>\n    .dataframe tbody tr th:only-of-type {\n        vertical-align: middle;\n    }\n\n    .dataframe tbody tr th {\n        vertical-align: top;\n    }\n\n    .dataframe thead th {\n        text-align: right;\n    }\n</style>\n<table border=\"1\" class=\"dataframe\">\n  <thead>\n    <tr style=\"text-align: right;\">\n      <th></th>\n      <th>charges</th>\n    </tr>\n  </thead>\n  <tbody>\n    <tr>\n      <th>0</th>\n      <td>16884.92400</td>\n    </tr>\n    <tr>\n      <th>1</th>\n      <td>1725.55230</td>\n    </tr>\n    <tr>\n      <th>2</th>\n      <td>4449.46200</td>\n    </tr>\n    <tr>\n      <th>3</th>\n      <td>21984.47061</td>\n    </tr>\n    <tr>\n      <th>4</th>\n      <td>3866.85520</td>\n    </tr>\n    <tr>\n      <th>...</th>\n      <td>...</td>\n    </tr>\n    <tr>\n      <th>1333</th>\n      <td>10600.54830</td>\n    </tr>\n    <tr>\n      <th>1334</th>\n      <td>2205.98080</td>\n    </tr>\n    <tr>\n      <th>1335</th>\n      <td>1629.83350</td>\n    </tr>\n    <tr>\n      <th>1336</th>\n      <td>2007.94500</td>\n    </tr>\n    <tr>\n      <th>1337</th>\n      <td>29141.36030</td>\n    </tr>\n  </tbody>\n</table>\n<p>1338 rows × 1 columns</p>\n</div>"
     },
     "metadata": {},
     "execution_count": 299
    }
   ],
   "source": [
    "target_cols = medical_df.columns[6:]\n",
    "target_df = medical_df[target_cols]\n",
    "target_df"
   ]
  },
  {
   "source": [
    "Splitting the input data columns into numeric and categorical data columns"
   ],
   "cell_type": "markdown",
   "metadata": {}
  },
  {
   "cell_type": "code",
   "execution_count": 300,
   "metadata": {},
   "outputs": [
    {
     "output_type": "execute_result",
     "data": {
      "text/plain": [
       "['age', 'bmi', 'children']"
      ]
     },
     "metadata": {},
     "execution_count": 300
    }
   ],
   "source": [
    "numeric_cols = inputs_df.select_dtypes(include = [\"int64\",\"float64\"]).columns.tolist()\n",
    "numeric_cols"
   ]
  },
  {
   "cell_type": "code",
   "execution_count": 301,
   "metadata": {},
   "outputs": [
    {
     "output_type": "stream",
     "name": "stdout",
     "text": [
      "['region']\n\n"
     ]
    }
   ],
   "source": [
    "#cat_cols=inputs_df.select_dtypes(include=[\"object\"]).columns.tolist()\n",
    "cat_cols = [\"region\"]\n",
    "\n",
    "print(cat_cols)\n",
    "#smoker column\n",
    "smokervalue = {\"no\": 0, \"yes\":1}\n",
    "smoker_numeric = inputs_df.smoker.map(smokervalue )\n",
    "\n",
    "print()\n",
    "\n",
    "#sex column\n",
    "sex_values={ \"female\":1,\"male\":0}\n",
    "sex_numeric = inputs_df.sex.map(sex_values)\n",
    "\n",
    "\n",
    "\n",
    "\n",
    "\n"
   ]
  },
  {
   "cell_type": "code",
   "execution_count": 302,
   "metadata": {},
   "outputs": [
    {
     "output_type": "execute_result",
     "data": {
      "text/plain": [
       "region    4\n",
       "dtype: int64"
      ]
     },
     "metadata": {},
     "execution_count": 302
    }
   ],
   "source": [
    "#encoding the categorical columns\n",
    "inputs_df[cat_cols].nunique()\n"
   ]
  },
  {
   "source": [
    "Encoding the categorical columns into 1s and 0s using One-Hot encoding"
   ],
   "cell_type": "markdown",
   "metadata": {}
  },
  {
   "cell_type": "code",
   "execution_count": 303,
   "metadata": {},
   "outputs": [
    {
     "output_type": "stream",
     "name": "stdout",
     "text": [
      "['region_northeast', 'region_northwest', 'region_southeast', 'region_southwest', 'sex_numeric', 'smoker_numeric']\n"
     ]
    }
   ],
   "source": [
    "from sklearn.preprocessing import OneHotEncoder\n",
    "encoder = OneHotEncoder(sparse=False,handle_unknown=\"ignore\")\n",
    "encoder.fit(inputs_df[cat_cols])\n",
    "encoded_cols = list(encoder.get_feature_names(cat_cols))\n",
    "inputs_df[encoded_cols] = encoder.transform(inputs_df[cat_cols])\n",
    "inputs_df[\"sex_numeric\"]=sex_numeric\n",
    "inputs_df[\"smoker_numeric\"]= smoker_numeric\n",
    "encoded_cols = ['region_northeast','region_northwest','region_southeast','region_southwest','sex_numeric','smoker_numeric']\n",
    "print(encoded_cols)\n",
    "\n",
    "\n"
   ]
  },
  {
   "cell_type": "code",
   "execution_count": 304,
   "metadata": {},
   "outputs": [
    {
     "output_type": "execute_result",
     "data": {
      "text/plain": [
       "      age    bmi  children\n",
       "min  18.0  15.96       0.0\n",
       "max  64.0  53.13       5.0"
      ],
      "text/html": "<div>\n<style scoped>\n    .dataframe tbody tr th:only-of-type {\n        vertical-align: middle;\n    }\n\n    .dataframe tbody tr th {\n        vertical-align: top;\n    }\n\n    .dataframe thead th {\n        text-align: right;\n    }\n</style>\n<table border=\"1\" class=\"dataframe\">\n  <thead>\n    <tr style=\"text-align: right;\">\n      <th></th>\n      <th>age</th>\n      <th>bmi</th>\n      <th>children</th>\n    </tr>\n  </thead>\n  <tbody>\n    <tr>\n      <th>min</th>\n      <td>18.0</td>\n      <td>15.96</td>\n      <td>0.0</td>\n    </tr>\n    <tr>\n      <th>max</th>\n      <td>64.0</td>\n      <td>53.13</td>\n      <td>5.0</td>\n    </tr>\n  </tbody>\n</table>\n</div>"
     },
     "metadata": {},
     "execution_count": 304
    }
   ],
   "source": [
    "# scaling the numeric columns to range(0,1)\n",
    "inputs_df[numeric_cols].describe().loc[['min', 'max']]"
   ]
  },
  {
   "source": [
    "Scaling the numeric column data into the range(0,1) so that different ranges of numeric data cannot interrupt the output"
   ],
   "cell_type": "markdown",
   "metadata": {}
  },
  {
   "cell_type": "code",
   "execution_count": 336,
   "metadata": {},
   "outputs": [
    {
     "output_type": "execute_result",
     "data": {
      "text/plain": [
       "           age     sex       bmi  children smoker     region  \\\n",
       "0     0.021739  female  0.321227       0.0    yes  southwest   \n",
       "1     0.000000    male  0.479150       0.2     no  southeast   \n",
       "2     0.217391    male  0.458434       0.6     no  southeast   \n",
       "3     0.326087    male  0.181464       0.0     no  northwest   \n",
       "4     0.304348    male  0.347592       0.0     no  northwest   \n",
       "...        ...     ...       ...       ...    ...        ...   \n",
       "1333  0.695652    male  0.403820       0.6     no  northwest   \n",
       "1334  0.000000  female  0.429379       0.0     no  northeast   \n",
       "1335  0.000000  female  0.562012       0.0     no  southeast   \n",
       "1336  0.065217  female  0.264730       0.0     no  southwest   \n",
       "1337  0.934783  female  0.352704       0.0    yes  northwest   \n",
       "\n",
       "      region_northeast  region_northwest  region_southeast  region_southwest  \\\n",
       "0                  0.0               0.0               0.0               1.0   \n",
       "1                  0.0               0.0               1.0               0.0   \n",
       "2                  0.0               0.0               1.0               0.0   \n",
       "3                  0.0               1.0               0.0               0.0   \n",
       "4                  0.0               1.0               0.0               0.0   \n",
       "...                ...               ...               ...               ...   \n",
       "1333               0.0               1.0               0.0               0.0   \n",
       "1334               1.0               0.0               0.0               0.0   \n",
       "1335               0.0               0.0               1.0               0.0   \n",
       "1336               0.0               0.0               0.0               1.0   \n",
       "1337               0.0               1.0               0.0               0.0   \n",
       "\n",
       "      sex_numeric  smoker_numeric  \n",
       "0               1               1  \n",
       "1               0               0  \n",
       "2               0               0  \n",
       "3               0               0  \n",
       "4               0               0  \n",
       "...           ...             ...  \n",
       "1333            0               0  \n",
       "1334            1               0  \n",
       "1335            1               0  \n",
       "1336            1               0  \n",
       "1337            1               1  \n",
       "\n",
       "[1338 rows x 12 columns]"
      ],
      "text/html": "<div>\n<style scoped>\n    .dataframe tbody tr th:only-of-type {\n        vertical-align: middle;\n    }\n\n    .dataframe tbody tr th {\n        vertical-align: top;\n    }\n\n    .dataframe thead th {\n        text-align: right;\n    }\n</style>\n<table border=\"1\" class=\"dataframe\">\n  <thead>\n    <tr style=\"text-align: right;\">\n      <th></th>\n      <th>age</th>\n      <th>sex</th>\n      <th>bmi</th>\n      <th>children</th>\n      <th>smoker</th>\n      <th>region</th>\n      <th>region_northeast</th>\n      <th>region_northwest</th>\n      <th>region_southeast</th>\n      <th>region_southwest</th>\n      <th>sex_numeric</th>\n      <th>smoker_numeric</th>\n    </tr>\n  </thead>\n  <tbody>\n    <tr>\n      <th>0</th>\n      <td>0.021739</td>\n      <td>female</td>\n      <td>0.321227</td>\n      <td>0.0</td>\n      <td>yes</td>\n      <td>southwest</td>\n      <td>0.0</td>\n      <td>0.0</td>\n      <td>0.0</td>\n      <td>1.0</td>\n      <td>1</td>\n      <td>1</td>\n    </tr>\n    <tr>\n      <th>1</th>\n      <td>0.000000</td>\n      <td>male</td>\n      <td>0.479150</td>\n      <td>0.2</td>\n      <td>no</td>\n      <td>southeast</td>\n      <td>0.0</td>\n      <td>0.0</td>\n      <td>1.0</td>\n      <td>0.0</td>\n      <td>0</td>\n      <td>0</td>\n    </tr>\n    <tr>\n      <th>2</th>\n      <td>0.217391</td>\n      <td>male</td>\n      <td>0.458434</td>\n      <td>0.6</td>\n      <td>no</td>\n      <td>southeast</td>\n      <td>0.0</td>\n      <td>0.0</td>\n      <td>1.0</td>\n      <td>0.0</td>\n      <td>0</td>\n      <td>0</td>\n    </tr>\n    <tr>\n      <th>3</th>\n      <td>0.326087</td>\n      <td>male</td>\n      <td>0.181464</td>\n      <td>0.0</td>\n      <td>no</td>\n      <td>northwest</td>\n      <td>0.0</td>\n      <td>1.0</td>\n      <td>0.0</td>\n      <td>0.0</td>\n      <td>0</td>\n      <td>0</td>\n    </tr>\n    <tr>\n      <th>4</th>\n      <td>0.304348</td>\n      <td>male</td>\n      <td>0.347592</td>\n      <td>0.0</td>\n      <td>no</td>\n      <td>northwest</td>\n      <td>0.0</td>\n      <td>1.0</td>\n      <td>0.0</td>\n      <td>0.0</td>\n      <td>0</td>\n      <td>0</td>\n    </tr>\n    <tr>\n      <th>...</th>\n      <td>...</td>\n      <td>...</td>\n      <td>...</td>\n      <td>...</td>\n      <td>...</td>\n      <td>...</td>\n      <td>...</td>\n      <td>...</td>\n      <td>...</td>\n      <td>...</td>\n      <td>...</td>\n      <td>...</td>\n    </tr>\n    <tr>\n      <th>1333</th>\n      <td>0.695652</td>\n      <td>male</td>\n      <td>0.403820</td>\n      <td>0.6</td>\n      <td>no</td>\n      <td>northwest</td>\n      <td>0.0</td>\n      <td>1.0</td>\n      <td>0.0</td>\n      <td>0.0</td>\n      <td>0</td>\n      <td>0</td>\n    </tr>\n    <tr>\n      <th>1334</th>\n      <td>0.000000</td>\n      <td>female</td>\n      <td>0.429379</td>\n      <td>0.0</td>\n      <td>no</td>\n      <td>northeast</td>\n      <td>1.0</td>\n      <td>0.0</td>\n      <td>0.0</td>\n      <td>0.0</td>\n      <td>1</td>\n      <td>0</td>\n    </tr>\n    <tr>\n      <th>1335</th>\n      <td>0.000000</td>\n      <td>female</td>\n      <td>0.562012</td>\n      <td>0.0</td>\n      <td>no</td>\n      <td>southeast</td>\n      <td>0.0</td>\n      <td>0.0</td>\n      <td>1.0</td>\n      <td>0.0</td>\n      <td>1</td>\n      <td>0</td>\n    </tr>\n    <tr>\n      <th>1336</th>\n      <td>0.065217</td>\n      <td>female</td>\n      <td>0.264730</td>\n      <td>0.0</td>\n      <td>no</td>\n      <td>southwest</td>\n      <td>0.0</td>\n      <td>0.0</td>\n      <td>0.0</td>\n      <td>1.0</td>\n      <td>1</td>\n      <td>0</td>\n    </tr>\n    <tr>\n      <th>1337</th>\n      <td>0.934783</td>\n      <td>female</td>\n      <td>0.352704</td>\n      <td>0.0</td>\n      <td>yes</td>\n      <td>northwest</td>\n      <td>0.0</td>\n      <td>1.0</td>\n      <td>0.0</td>\n      <td>0.0</td>\n      <td>1</td>\n      <td>1</td>\n    </tr>\n  </tbody>\n</table>\n<p>1338 rows × 12 columns</p>\n</div>"
     },
     "metadata": {},
     "execution_count": 336
    }
   ],
   "source": [
    "# using MinMaxScaler from sklearn.preprocessing\n",
    "from sklearn.preprocessing import MinMaxScaler\n",
    "scaler = MinMaxScaler()\n",
    "scaler.fit(inputs_df[numeric_cols])\n",
    "inputs_df[numeric_cols] = scaler.transform(inputs_df[numeric_cols])\n",
    "inputs_df\n"
   ]
  },
  {
   "source": [
    "complete input data has been set to the range(0,1)"
   ],
   "cell_type": "markdown",
   "metadata": {}
  },
  {
   "source": [
    "## Splitting the input and target data into test and train sets"
   ],
   "cell_type": "markdown",
   "metadata": {}
  },
  {
   "cell_type": "code",
   "execution_count": 306,
   "metadata": {},
   "outputs": [],
   "source": [
    "#training and test set\n",
    "from sklearn.model_selection import train_test_split\n",
    "train_inputs, test_inputs,train_targets,test_targets = train_test_split(inputs_df[numeric_cols + encoded_cols],target_df, test_size=0.25, random_state=42)\n"
   ]
  },
  {
   "cell_type": "code",
   "execution_count": 307,
   "metadata": {},
   "outputs": [
    {
     "output_type": "execute_result",
     "data": {
      "text/plain": [
       "           age       bmi  children  region_northeast  region_northwest  \\\n",
       "693   0.130435  0.207022       0.0               0.0               1.0   \n",
       "1297  0.217391  0.283831       0.4               0.0               0.0   \n",
       "634   0.717391  0.638687       0.2               0.0               0.0   \n",
       "1022  0.630435  0.541297       0.2               0.0               0.0   \n",
       "178   0.608696  0.348130       0.4               0.0               0.0   \n",
       "...        ...       ...       ...               ...               ...   \n",
       "1095  0.000000  0.414044       0.8               1.0               0.0   \n",
       "1130  0.456522  0.212806       1.0               0.0               0.0   \n",
       "1294  0.869565  0.247915       0.0               1.0               0.0   \n",
       "860   0.413043  0.851224       0.4               0.0               0.0   \n",
       "1126  0.804348  0.375034       0.0               0.0               0.0   \n",
       "\n",
       "      region_southeast  region_southwest  sex_numeric  smoker_numeric  \n",
       "693                0.0               0.0            0               0  \n",
       "1297               1.0               0.0            1               0  \n",
       "634                0.0               1.0            0               0  \n",
       "1022               1.0               0.0            0               1  \n",
       "178                0.0               1.0            1               0  \n",
       "...                ...               ...          ...             ...  \n",
       "1095               0.0               0.0            1               0  \n",
       "1130               1.0               0.0            1               0  \n",
       "1294               0.0               0.0            0               0  \n",
       "860                0.0               1.0            1               1  \n",
       "1126               0.0               1.0            0               0  \n",
       "\n",
       "[1003 rows x 9 columns]"
      ],
      "text/html": "<div>\n<style scoped>\n    .dataframe tbody tr th:only-of-type {\n        vertical-align: middle;\n    }\n\n    .dataframe tbody tr th {\n        vertical-align: top;\n    }\n\n    .dataframe thead th {\n        text-align: right;\n    }\n</style>\n<table border=\"1\" class=\"dataframe\">\n  <thead>\n    <tr style=\"text-align: right;\">\n      <th></th>\n      <th>age</th>\n      <th>bmi</th>\n      <th>children</th>\n      <th>region_northeast</th>\n      <th>region_northwest</th>\n      <th>region_southeast</th>\n      <th>region_southwest</th>\n      <th>sex_numeric</th>\n      <th>smoker_numeric</th>\n    </tr>\n  </thead>\n  <tbody>\n    <tr>\n      <th>693</th>\n      <td>0.130435</td>\n      <td>0.207022</td>\n      <td>0.0</td>\n      <td>0.0</td>\n      <td>1.0</td>\n      <td>0.0</td>\n      <td>0.0</td>\n      <td>0</td>\n      <td>0</td>\n    </tr>\n    <tr>\n      <th>1297</th>\n      <td>0.217391</td>\n      <td>0.283831</td>\n      <td>0.4</td>\n      <td>0.0</td>\n      <td>0.0</td>\n      <td>1.0</td>\n      <td>0.0</td>\n      <td>1</td>\n      <td>0</td>\n    </tr>\n    <tr>\n      <th>634</th>\n      <td>0.717391</td>\n      <td>0.638687</td>\n      <td>0.2</td>\n      <td>0.0</td>\n      <td>0.0</td>\n      <td>0.0</td>\n      <td>1.0</td>\n      <td>0</td>\n      <td>0</td>\n    </tr>\n    <tr>\n      <th>1022</th>\n      <td>0.630435</td>\n      <td>0.541297</td>\n      <td>0.2</td>\n      <td>0.0</td>\n      <td>0.0</td>\n      <td>1.0</td>\n      <td>0.0</td>\n      <td>0</td>\n      <td>1</td>\n    </tr>\n    <tr>\n      <th>178</th>\n      <td>0.608696</td>\n      <td>0.348130</td>\n      <td>0.4</td>\n      <td>0.0</td>\n      <td>0.0</td>\n      <td>0.0</td>\n      <td>1.0</td>\n      <td>1</td>\n      <td>0</td>\n    </tr>\n    <tr>\n      <th>...</th>\n      <td>...</td>\n      <td>...</td>\n      <td>...</td>\n      <td>...</td>\n      <td>...</td>\n      <td>...</td>\n      <td>...</td>\n      <td>...</td>\n      <td>...</td>\n    </tr>\n    <tr>\n      <th>1095</th>\n      <td>0.000000</td>\n      <td>0.414044</td>\n      <td>0.8</td>\n      <td>1.0</td>\n      <td>0.0</td>\n      <td>0.0</td>\n      <td>0.0</td>\n      <td>1</td>\n      <td>0</td>\n    </tr>\n    <tr>\n      <th>1130</th>\n      <td>0.456522</td>\n      <td>0.212806</td>\n      <td>1.0</td>\n      <td>0.0</td>\n      <td>0.0</td>\n      <td>1.0</td>\n      <td>0.0</td>\n      <td>1</td>\n      <td>0</td>\n    </tr>\n    <tr>\n      <th>1294</th>\n      <td>0.869565</td>\n      <td>0.247915</td>\n      <td>0.0</td>\n      <td>1.0</td>\n      <td>0.0</td>\n      <td>0.0</td>\n      <td>0.0</td>\n      <td>0</td>\n      <td>0</td>\n    </tr>\n    <tr>\n      <th>860</th>\n      <td>0.413043</td>\n      <td>0.851224</td>\n      <td>0.4</td>\n      <td>0.0</td>\n      <td>0.0</td>\n      <td>0.0</td>\n      <td>1.0</td>\n      <td>1</td>\n      <td>1</td>\n    </tr>\n    <tr>\n      <th>1126</th>\n      <td>0.804348</td>\n      <td>0.375034</td>\n      <td>0.0</td>\n      <td>0.0</td>\n      <td>0.0</td>\n      <td>0.0</td>\n      <td>1.0</td>\n      <td>0</td>\n      <td>0</td>\n    </tr>\n  </tbody>\n</table>\n<p>1003 rows × 9 columns</p>\n</div>"
     },
     "metadata": {},
     "execution_count": 307
    }
   ],
   "source": [
    "train_inputs "
   ]
  },
  {
   "cell_type": "code",
   "execution_count": 308,
   "metadata": {},
   "outputs": [
    {
     "output_type": "execute_result",
     "data": {
      "text/plain": [
       "          charges\n",
       "693    2352.96845\n",
       "1297   4340.44090\n",
       "634    9391.34600\n",
       "1022  42211.13820\n",
       "178    8823.27900\n",
       "...           ...\n",
       "1095   4561.18850\n",
       "1130   8582.30230\n",
       "1294  11931.12525\n",
       "860   46113.51100\n",
       "1126  10214.63600\n",
       "\n",
       "[1003 rows x 1 columns]"
      ],
      "text/html": "<div>\n<style scoped>\n    .dataframe tbody tr th:only-of-type {\n        vertical-align: middle;\n    }\n\n    .dataframe tbody tr th {\n        vertical-align: top;\n    }\n\n    .dataframe thead th {\n        text-align: right;\n    }\n</style>\n<table border=\"1\" class=\"dataframe\">\n  <thead>\n    <tr style=\"text-align: right;\">\n      <th></th>\n      <th>charges</th>\n    </tr>\n  </thead>\n  <tbody>\n    <tr>\n      <th>693</th>\n      <td>2352.96845</td>\n    </tr>\n    <tr>\n      <th>1297</th>\n      <td>4340.44090</td>\n    </tr>\n    <tr>\n      <th>634</th>\n      <td>9391.34600</td>\n    </tr>\n    <tr>\n      <th>1022</th>\n      <td>42211.13820</td>\n    </tr>\n    <tr>\n      <th>178</th>\n      <td>8823.27900</td>\n    </tr>\n    <tr>\n      <th>...</th>\n      <td>...</td>\n    </tr>\n    <tr>\n      <th>1095</th>\n      <td>4561.18850</td>\n    </tr>\n    <tr>\n      <th>1130</th>\n      <td>8582.30230</td>\n    </tr>\n    <tr>\n      <th>1294</th>\n      <td>11931.12525</td>\n    </tr>\n    <tr>\n      <th>860</th>\n      <td>46113.51100</td>\n    </tr>\n    <tr>\n      <th>1126</th>\n      <td>10214.63600</td>\n    </tr>\n  </tbody>\n</table>\n<p>1003 rows × 1 columns</p>\n</div>"
     },
     "metadata": {},
     "execution_count": 308
    }
   ],
   "source": [
    "train_targets"
   ]
  },
  {
   "source": [],
   "cell_type": "markdown",
   "metadata": {}
  },
  {
   "source": [
    "generate and train the model"
   ],
   "cell_type": "markdown",
   "metadata": {}
  },
  {
   "cell_type": "code",
   "execution_count": 309,
   "metadata": {},
   "outputs": [
    {
     "output_type": "execute_result",
     "data": {
      "text/plain": [
       "LinearRegression()"
      ]
     },
     "metadata": {},
     "execution_count": 309
    }
   ],
   "source": [
    "from sklearn.linear_model import LinearRegression\n",
    "model = LinearRegression()\n",
    "model.fit(train_inputs,train_targets)\n"
   ]
  },
  {
   "cell_type": "code",
   "execution_count": 310,
   "metadata": {},
   "outputs": [
    {
     "output_type": "execute_result",
     "data": {
      "text/plain": [
       "array([[ 1824.],\n",
       "       [ 4000.],\n",
       "       [14336.],\n",
       "       [35520.],\n",
       "       [ 9664.],\n",
       "       [12800.],\n",
       "       [ 5280.],\n",
       "       [ 4992.],\n",
       "       [ 3968.],\n",
       "       [ 2720.]])"
      ]
     },
     "metadata": {},
     "execution_count": 310
    }
   ],
   "source": [
    "predictions = model.predict(train_inputs)\n",
    "predictions[0:10]"
   ]
  },
  {
   "cell_type": "code",
   "execution_count": 311,
   "metadata": {},
   "outputs": [
    {
     "output_type": "execute_result",
     "data": {
      "text/plain": [
       "          charges\n",
       "693    2352.96845\n",
       "1297   4340.44090\n",
       "634    9391.34600\n",
       "1022  42211.13820\n",
       "178    8823.27900\n",
       "287   14256.19280\n",
       "1290   7133.90250\n",
       "1113   5312.16985\n",
       "294    3906.12700\n",
       "471    2203.47185"
      ],
      "text/html": "<div>\n<style scoped>\n    .dataframe tbody tr th:only-of-type {\n        vertical-align: middle;\n    }\n\n    .dataframe tbody tr th {\n        vertical-align: top;\n    }\n\n    .dataframe thead th {\n        text-align: right;\n    }\n</style>\n<table border=\"1\" class=\"dataframe\">\n  <thead>\n    <tr style=\"text-align: right;\">\n      <th></th>\n      <th>charges</th>\n    </tr>\n  </thead>\n  <tbody>\n    <tr>\n      <th>693</th>\n      <td>2352.96845</td>\n    </tr>\n    <tr>\n      <th>1297</th>\n      <td>4340.44090</td>\n    </tr>\n    <tr>\n      <th>634</th>\n      <td>9391.34600</td>\n    </tr>\n    <tr>\n      <th>1022</th>\n      <td>42211.13820</td>\n    </tr>\n    <tr>\n      <th>178</th>\n      <td>8823.27900</td>\n    </tr>\n    <tr>\n      <th>287</th>\n      <td>14256.19280</td>\n    </tr>\n    <tr>\n      <th>1290</th>\n      <td>7133.90250</td>\n    </tr>\n    <tr>\n      <th>1113</th>\n      <td>5312.16985</td>\n    </tr>\n    <tr>\n      <th>294</th>\n      <td>3906.12700</td>\n    </tr>\n    <tr>\n      <th>471</th>\n      <td>2203.47185</td>\n    </tr>\n  </tbody>\n</table>\n</div>"
     },
     "metadata": {},
     "execution_count": 311
    }
   ],
   "source": [
    "train_targets[0:10]"
   ]
  },
  {
   "source": [
    "computing the loss using ROOT MEAN SQUARED ERROR method"
   ],
   "cell_type": "markdown",
   "metadata": {}
  },
  {
   "cell_type": "code",
   "execution_count": 312,
   "metadata": {},
   "outputs": [],
   "source": [
    "# Root Mean Squared Error\n",
    "def rmse(target_data,predicted_data):\n",
    "    return np.sqrt(np.mean(np.square(target_data-predicted_data)))"
   ]
  },
  {
   "cell_type": "code",
   "execution_count": 313,
   "metadata": {},
   "outputs": [
    {
     "output_type": "stream",
     "name": "stdout",
     "text": [
      "charges    6084.012797\ndtype: float64\n"
     ]
    }
   ],
   "source": [
    "loss = rmse(train_targets,predictions)\n",
    "print(loss)"
   ]
  },
  {
   "cell_type": "code",
   "execution_count": 314,
   "metadata": {},
   "outputs": [
    {
     "output_type": "execute_result",
     "data": {
      "text/plain": [
       "array([[ 1.19839864e+04,  1.27678311e+04,  2.12885015e+03,\n",
       "         1.62737959e+17,  1.62737959e+17,  1.62737959e+17,\n",
       "         1.62737959e+17, -6.40507002e+01,  2.36606691e+04]])"
      ]
     },
     "metadata": {},
     "execution_count": 314
    }
   ],
   "source": [
    "model.coef_"
   ]
  },
  {
   "cell_type": "code",
   "execution_count": 315,
   "metadata": {},
   "outputs": [
    {
     "output_type": "execute_result",
     "data": {
      "text/plain": [
       "array([-1.62737959e+17])"
      ]
     },
     "metadata": {},
     "execution_count": 315
    }
   ],
   "source": [
    "model.intercept_"
   ]
  },
  {
   "cell_type": "code",
   "execution_count": 316,
   "metadata": {},
   "outputs": [
    {
     "output_type": "execute_result",
     "data": {
      "text/plain": [
       "           features       weights\n",
       "0               age  1.198399e+04\n",
       "1               bmi  1.276783e+04\n",
       "2          children  2.128850e+03\n",
       "3  region_northeast  1.627380e+17\n",
       "4  region_northwest  1.627380e+17\n",
       "5  region_southeast  1.627380e+17\n",
       "6  region_southwest  1.627380e+17\n",
       "7       sex_numeric -6.405070e+01\n",
       "8    smoker_numeric  2.366067e+04\n",
       "9                 1 -1.627380e+17"
      ],
      "text/html": "<div>\n<style scoped>\n    .dataframe tbody tr th:only-of-type {\n        vertical-align: middle;\n    }\n\n    .dataframe tbody tr th {\n        vertical-align: top;\n    }\n\n    .dataframe thead th {\n        text-align: right;\n    }\n</style>\n<table border=\"1\" class=\"dataframe\">\n  <thead>\n    <tr style=\"text-align: right;\">\n      <th></th>\n      <th>features</th>\n      <th>weights</th>\n    </tr>\n  </thead>\n  <tbody>\n    <tr>\n      <th>0</th>\n      <td>age</td>\n      <td>1.198399e+04</td>\n    </tr>\n    <tr>\n      <th>1</th>\n      <td>bmi</td>\n      <td>1.276783e+04</td>\n    </tr>\n    <tr>\n      <th>2</th>\n      <td>children</td>\n      <td>2.128850e+03</td>\n    </tr>\n    <tr>\n      <th>3</th>\n      <td>region_northeast</td>\n      <td>1.627380e+17</td>\n    </tr>\n    <tr>\n      <th>4</th>\n      <td>region_northwest</td>\n      <td>1.627380e+17</td>\n    </tr>\n    <tr>\n      <th>5</th>\n      <td>region_southeast</td>\n      <td>1.627380e+17</td>\n    </tr>\n    <tr>\n      <th>6</th>\n      <td>region_southwest</td>\n      <td>1.627380e+17</td>\n    </tr>\n    <tr>\n      <th>7</th>\n      <td>sex_numeric</td>\n      <td>-6.405070e+01</td>\n    </tr>\n    <tr>\n      <th>8</th>\n      <td>smoker_numeric</td>\n      <td>2.366067e+04</td>\n    </tr>\n    <tr>\n      <th>9</th>\n      <td>1</td>\n      <td>-1.627380e+17</td>\n    </tr>\n  </tbody>\n</table>\n</div>"
     },
     "metadata": {},
     "execution_count": 316
    }
   ],
   "source": [
    "weights_df = pd.DataFrame({\n",
    "    \"features\" : np.append(train_inputs.columns,1),\n",
    "    \"weights\":np.append(model.coef_,model.intercept_)\n",
    "})\n",
    "weights_df"
   ]
  },
  {
   "source": [
    "predicting using test set"
   ],
   "cell_type": "markdown",
   "metadata": {}
  },
  {
   "cell_type": "code",
   "execution_count": 317,
   "metadata": {},
   "outputs": [
    {
     "output_type": "execute_result",
     "data": {
      "text/plain": [
       "array([[ 8896.],\n",
       "       [ 7072.],\n",
       "       [36960.],\n",
       "       [ 9568.],\n",
       "       [27008.],\n",
       "       [11008.],\n",
       "       [   96.],\n",
       "       [17152.],\n",
       "       [  928.],\n",
       "       [11360.]])"
      ]
     },
     "metadata": {},
     "execution_count": 317
    }
   ],
   "source": [
    "test_predictions = model.predict(test_inputs)\n",
    "test_predictions[0:10]"
   ]
  },
  {
   "source": [
    "loss1 = rmse(test_targets,test_predictions)\n",
    "loss1"
   ],
   "cell_type": "code",
   "metadata": {},
   "execution_count": 318,
   "outputs": [
    {
     "output_type": "execute_result",
     "data": {
      "text/plain": [
       "charges    5922.631837\n",
       "dtype: float64"
      ]
     },
     "metadata": {},
     "execution_count": 318
    }
   ]
  },
  {
   "cell_type": "code",
   "execution_count": 324,
   "metadata": {},
   "outputs": [],
   "source": [
    "import joblib"
   ]
  },
  {
   "cell_type": "code",
   "execution_count": 325,
   "metadata": {},
   "outputs": [],
   "source": [
    "insurance_predictor = {\n",
    "    'model': model,\n",
    "    \n",
    "    'scaler': scaler,\n",
    "    'encoder': encoder,\n",
    "    'input_cols': input_cols,\n",
    "    'target_cols': target_cols,\n",
    "    'numeric_cols': numeric_cols,\n",
    "    'cat_cols': cat_cols,\n",
    "    'encoded_cols': encoded_cols\n",
    "}"
   ]
  },
  {
   "cell_type": "code",
   "execution_count": 326,
   "metadata": {},
   "outputs": [
    {
     "output_type": "execute_result",
     "data": {
      "text/plain": [
       "['insurance_predictor.joblib']"
      ]
     },
     "metadata": {},
     "execution_count": 326
    }
   ],
   "source": [
    "joblib.dump(insurance_predictor,\"insurance_predictor.joblib\")"
   ]
  },
  {
   "source": [
    "predict using new data"
   ],
   "cell_type": "markdown",
   "metadata": {}
  },
  {
   "cell_type": "code",
   "execution_count": 372,
   "metadata": {},
   "outputs": [
    {
     "output_type": "execute_result",
     "data": {
      "text/plain": [
       "array([[0.2173913 , 0.37772397, 0.4       ]])"
      ]
     },
     "metadata": {},
     "execution_count": 372
    }
   ],
   "source": [
    "\n",
    "new_customers = [[28,30,2,1,0,0,1,0,0,0,0]]\n",
    "scaler.transform([[28,30,2]])\n",
    "\n",
    "\n"
   ]
  },
  {
   "cell_type": "code",
   "execution_count": 377,
   "metadata": {},
   "outputs": [
    {
     "output_type": "execute_result",
     "data": {
      "text/plain": [
       "array([[6144.]])"
      ]
     },
     "metadata": {},
     "execution_count": 377
    }
   ],
   "source": [
    "model.predict([[0.2173913 , 0.37772397, 0.4,1,0,0,0,1,0]])\n"
   ]
  },
  {
   "cell_type": "code",
   "execution_count": null,
   "metadata": {},
   "outputs": [],
   "source": []
  }
 ]
}